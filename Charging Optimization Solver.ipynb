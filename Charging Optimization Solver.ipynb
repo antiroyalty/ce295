{
 "cells": [
  {
   "cell_type": "markdown",
   "id": "7874c67a",
   "metadata": {},
   "source": [
    "# CE 295 Final Project\n",
    "# EV Charging Schedule Optimization\n",
    "\n",
    "# Optimization Solver"
   ]
  },
  {
   "cell_type": "code",
   "execution_count": 1,
   "id": "82f9f556",
   "metadata": {},
   "outputs": [],
   "source": [
    "import pandas as pd\n",
    "import numpy as np\n",
    "import matplotlib.pyplot as plt\n",
    "%matplotlib inline\n",
    "from cvxpy import *"
   ]
  },
  {
   "cell_type": "markdown",
   "id": "b44c6c64",
   "metadata": {},
   "source": [
    "## Import Oakland K Feeder 1103 Existing Load Profile\n",
    "### (pre-processed in Oakland_K_1103_Load.ipynb)\n",
    "\n",
    "Source:\n",
    "PG&E Integration Capacity Analysis (ICA) Map: https://www.pge.com/b2b/distribution-resource-planning/integration-capacity-map.shtml\n",
    "Download Spatial Data --> Open GDB in QGIS --> Open Attribute Table for FeederLoadProfile--> Filter for Oakland K Substation Feeder 1103"
   ]
  },
  {
   "cell_type": "code",
   "execution_count": 2,
   "id": "7b717f5c",
   "metadata": {},
   "outputs": [
    {
     "data": {
      "text/html": [
       "<div>\n",
       "<style scoped>\n",
       "    .dataframe tbody tr th:only-of-type {\n",
       "        vertical-align: middle;\n",
       "    }\n",
       "\n",
       "    .dataframe tbody tr th {\n",
       "        vertical-align: top;\n",
       "    }\n",
       "\n",
       "    .dataframe thead th {\n",
       "        text-align: right;\n",
       "    }\n",
       "</style>\n",
       "<table border=\"1\" class=\"dataframe\">\n",
       "  <thead>\n",
       "    <tr style=\"text-align: right;\">\n",
       "      <th></th>\n",
       "      <th>Hour</th>\n",
       "      <th>Low_kW</th>\n",
       "      <th>Med_kW</th>\n",
       "      <th>High_kW</th>\n",
       "    </tr>\n",
       "  </thead>\n",
       "  <tbody>\n",
       "    <tr>\n",
       "      <th>0</th>\n",
       "      <td>0</td>\n",
       "      <td>2222.0</td>\n",
       "      <td>2377.0</td>\n",
       "      <td>2531.0</td>\n",
       "    </tr>\n",
       "    <tr>\n",
       "      <th>1</th>\n",
       "      <td>1</td>\n",
       "      <td>2238.0</td>\n",
       "      <td>2386.0</td>\n",
       "      <td>2535.0</td>\n",
       "    </tr>\n",
       "    <tr>\n",
       "      <th>2</th>\n",
       "      <td>2</td>\n",
       "      <td>2092.0</td>\n",
       "      <td>2230.0</td>\n",
       "      <td>2368.0</td>\n",
       "    </tr>\n",
       "    <tr>\n",
       "      <th>3</th>\n",
       "      <td>3</td>\n",
       "      <td>1940.0</td>\n",
       "      <td>2076.0</td>\n",
       "      <td>2212.0</td>\n",
       "    </tr>\n",
       "    <tr>\n",
       "      <th>4</th>\n",
       "      <td>4</td>\n",
       "      <td>1844.0</td>\n",
       "      <td>1972.0</td>\n",
       "      <td>2100.0</td>\n",
       "    </tr>\n",
       "    <tr>\n",
       "      <th>5</th>\n",
       "      <td>5</td>\n",
       "      <td>1800.0</td>\n",
       "      <td>1927.0</td>\n",
       "      <td>2053.0</td>\n",
       "    </tr>\n",
       "    <tr>\n",
       "      <th>6</th>\n",
       "      <td>6</td>\n",
       "      <td>1819.0</td>\n",
       "      <td>1958.0</td>\n",
       "      <td>2097.0</td>\n",
       "    </tr>\n",
       "    <tr>\n",
       "      <th>7</th>\n",
       "      <td>7</td>\n",
       "      <td>1908.0</td>\n",
       "      <td>2111.0</td>\n",
       "      <td>2313.0</td>\n",
       "    </tr>\n",
       "    <tr>\n",
       "      <th>8</th>\n",
       "      <td>8</td>\n",
       "      <td>2077.0</td>\n",
       "      <td>2380.0</td>\n",
       "      <td>2683.0</td>\n",
       "    </tr>\n",
       "    <tr>\n",
       "      <th>9</th>\n",
       "      <td>9</td>\n",
       "      <td>2066.0</td>\n",
       "      <td>2366.0</td>\n",
       "      <td>2665.0</td>\n",
       "    </tr>\n",
       "    <tr>\n",
       "      <th>10</th>\n",
       "      <td>10</td>\n",
       "      <td>1752.0</td>\n",
       "      <td>2113.0</td>\n",
       "      <td>2475.0</td>\n",
       "    </tr>\n",
       "    <tr>\n",
       "      <th>11</th>\n",
       "      <td>11</td>\n",
       "      <td>1315.0</td>\n",
       "      <td>1802.0</td>\n",
       "      <td>2288.0</td>\n",
       "    </tr>\n",
       "    <tr>\n",
       "      <th>12</th>\n",
       "      <td>12</td>\n",
       "      <td>939.0</td>\n",
       "      <td>1500.0</td>\n",
       "      <td>2061.0</td>\n",
       "    </tr>\n",
       "    <tr>\n",
       "      <th>13</th>\n",
       "      <td>13</td>\n",
       "      <td>720.0</td>\n",
       "      <td>1247.0</td>\n",
       "      <td>1775.0</td>\n",
       "    </tr>\n",
       "    <tr>\n",
       "      <th>14</th>\n",
       "      <td>14</td>\n",
       "      <td>619.0</td>\n",
       "      <td>1197.0</td>\n",
       "      <td>1776.0</td>\n",
       "    </tr>\n",
       "    <tr>\n",
       "      <th>15</th>\n",
       "      <td>15</td>\n",
       "      <td>678.0</td>\n",
       "      <td>1208.0</td>\n",
       "      <td>1739.0</td>\n",
       "    </tr>\n",
       "    <tr>\n",
       "      <th>16</th>\n",
       "      <td>16</td>\n",
       "      <td>880.0</td>\n",
       "      <td>1357.0</td>\n",
       "      <td>1835.0</td>\n",
       "    </tr>\n",
       "    <tr>\n",
       "      <th>17</th>\n",
       "      <td>17</td>\n",
       "      <td>1296.0</td>\n",
       "      <td>1732.0</td>\n",
       "      <td>2168.0</td>\n",
       "    </tr>\n",
       "    <tr>\n",
       "      <th>18</th>\n",
       "      <td>18</td>\n",
       "      <td>1932.0</td>\n",
       "      <td>2307.0</td>\n",
       "      <td>2683.0</td>\n",
       "    </tr>\n",
       "    <tr>\n",
       "      <th>19</th>\n",
       "      <td>19</td>\n",
       "      <td>2466.0</td>\n",
       "      <td>2776.0</td>\n",
       "      <td>3086.0</td>\n",
       "    </tr>\n",
       "    <tr>\n",
       "      <th>20</th>\n",
       "      <td>20</td>\n",
       "      <td>2717.0</td>\n",
       "      <td>2973.0</td>\n",
       "      <td>3229.0</td>\n",
       "    </tr>\n",
       "    <tr>\n",
       "      <th>21</th>\n",
       "      <td>21</td>\n",
       "      <td>2813.0</td>\n",
       "      <td>3051.0</td>\n",
       "      <td>3290.0</td>\n",
       "    </tr>\n",
       "    <tr>\n",
       "      <th>22</th>\n",
       "      <td>22</td>\n",
       "      <td>2774.0</td>\n",
       "      <td>2979.0</td>\n",
       "      <td>3184.0</td>\n",
       "    </tr>\n",
       "    <tr>\n",
       "      <th>23</th>\n",
       "      <td>23</td>\n",
       "      <td>2531.0</td>\n",
       "      <td>2700.0</td>\n",
       "      <td>2868.0</td>\n",
       "    </tr>\n",
       "  </tbody>\n",
       "</table>\n",
       "</div>"
      ],
      "text/plain": [
       "    Hour  Low_kW  Med_kW  High_kW\n",
       "0      0  2222.0  2377.0   2531.0\n",
       "1      1  2238.0  2386.0   2535.0\n",
       "2      2  2092.0  2230.0   2368.0\n",
       "3      3  1940.0  2076.0   2212.0\n",
       "4      4  1844.0  1972.0   2100.0\n",
       "5      5  1800.0  1927.0   2053.0\n",
       "6      6  1819.0  1958.0   2097.0\n",
       "7      7  1908.0  2111.0   2313.0\n",
       "8      8  2077.0  2380.0   2683.0\n",
       "9      9  2066.0  2366.0   2665.0\n",
       "10    10  1752.0  2113.0   2475.0\n",
       "11    11  1315.0  1802.0   2288.0\n",
       "12    12   939.0  1500.0   2061.0\n",
       "13    13   720.0  1247.0   1775.0\n",
       "14    14   619.0  1197.0   1776.0\n",
       "15    15   678.0  1208.0   1739.0\n",
       "16    16   880.0  1357.0   1835.0\n",
       "17    17  1296.0  1732.0   2168.0\n",
       "18    18  1932.0  2307.0   2683.0\n",
       "19    19  2466.0  2776.0   3086.0\n",
       "20    20  2717.0  2973.0   3229.0\n",
       "21    21  2813.0  3051.0   3290.0\n",
       "22    22  2774.0  2979.0   3184.0\n",
       "23    23  2531.0  2700.0   2868.0"
      ]
     },
     "execution_count": 2,
     "metadata": {},
     "output_type": "execute_result"
    }
   ],
   "source": [
    "oak_load = (pd.read_csv(\"OAK1103_Hrly_Load.csv\"))\n",
    "oak_load = oak_load.drop(columns = ['Unnamed: 0'])\n",
    "oak_load"
   ]
  },
  {
   "cell_type": "markdown",
   "id": "c102e0c2",
   "metadata": {},
   "source": [
    "## Define Oakland K Feeder 1103 Capacity\n",
    "\n",
    "Source:\n",
    "PG&E Distribution Investment Deferral Framework (DIDF) Map: https://www.pge.com/b2b/distribution-resource-planning/grid-needs-assessment-map.html\n",
    "Download Data --> PGE_2023_GNA_Appendix_E_Public.xlsx --> Filter for Oakland K 1103 (Bank and Feeder Capacity Needs)"
   ]
  },
  {
   "cell_type": "code",
   "execution_count": 3,
   "id": "2ef478fa",
   "metadata": {},
   "outputs": [],
   "source": [
    "oak_capacity = 7.36 * 1000 # kW"
   ]
  },
  {
   "cell_type": "markdown",
   "id": "d80a6ae7",
   "metadata": {},
   "source": [
    "## Import Example Synthetic Dataset for EV Specs + Driver Behavior\n",
    "### (pre-processed in Synthetic EV Data.ipynb)\n",
    "\n",
    "“Tesla Model 3 Long Range Dual Motor,” EV Database. https://ev-database.org/car/1992/Tesla-Model-3-Long-Range-Dual-Motor\n",
    "\n",
    "“Onboard Charger | Tesla Support,” Tesla, 2024. https://www.tesla.com/support/charging/onboard-charger (accessed Apr. 04, 2024)"
   ]
  },
  {
   "cell_type": "code",
   "execution_count": 4,
   "id": "616bdfa3",
   "metadata": {},
   "outputs": [
    {
     "data": {
      "text/html": [
       "<div>\n",
       "<style scoped>\n",
       "    .dataframe tbody tr th:only-of-type {\n",
       "        vertical-align: middle;\n",
       "    }\n",
       "\n",
       "    .dataframe tbody tr th {\n",
       "        vertical-align: top;\n",
       "    }\n",
       "\n",
       "    .dataframe thead th {\n",
       "        text-align: right;\n",
       "    }\n",
       "</style>\n",
       "<table border=\"1\" class=\"dataframe\">\n",
       "  <thead>\n",
       "    <tr style=\"text-align: right;\">\n",
       "      <th></th>\n",
       "      <th>VehID</th>\n",
       "      <th>Make</th>\n",
       "      <th>Model</th>\n",
       "      <th>Battery_Capacity_kWh</th>\n",
       "      <th>Charging_Rating_kW</th>\n",
       "      <th>Fuel_Econ_kWh/mi</th>\n",
       "      <th>Init_SOC</th>\n",
       "      <th>AM_Commute_Hr</th>\n",
       "      <th>PM_Commute_Hr</th>\n",
       "      <th>Commute_mi_per_trip</th>\n",
       "      <th>charge_access</th>\n",
       "    </tr>\n",
       "  </thead>\n",
       "  <tbody>\n",
       "    <tr>\n",
       "      <th>0</th>\n",
       "      <td>1</td>\n",
       "      <td>Tesla</td>\n",
       "      <td>Model 3 Long Range</td>\n",
       "      <td>75</td>\n",
       "      <td>11</td>\n",
       "      <td>0.24</td>\n",
       "      <td>0.39</td>\n",
       "      <td>7</td>\n",
       "      <td>16</td>\n",
       "      <td>20</td>\n",
       "      <td>home</td>\n",
       "    </tr>\n",
       "    <tr>\n",
       "      <th>1</th>\n",
       "      <td>2</td>\n",
       "      <td>Tesla</td>\n",
       "      <td>Model 3 Long Range</td>\n",
       "      <td>75</td>\n",
       "      <td>11</td>\n",
       "      <td>0.24</td>\n",
       "      <td>0.70</td>\n",
       "      <td>8</td>\n",
       "      <td>17</td>\n",
       "      <td>20</td>\n",
       "      <td>both</td>\n",
       "    </tr>\n",
       "    <tr>\n",
       "      <th>2</th>\n",
       "      <td>3</td>\n",
       "      <td>Tesla</td>\n",
       "      <td>Model 3 Long Range</td>\n",
       "      <td>75</td>\n",
       "      <td>11</td>\n",
       "      <td>0.24</td>\n",
       "      <td>0.59</td>\n",
       "      <td>7</td>\n",
       "      <td>17</td>\n",
       "      <td>20</td>\n",
       "      <td>home</td>\n",
       "    </tr>\n",
       "    <tr>\n",
       "      <th>3</th>\n",
       "      <td>4</td>\n",
       "      <td>Tesla</td>\n",
       "      <td>Model 3 Long Range</td>\n",
       "      <td>75</td>\n",
       "      <td>11</td>\n",
       "      <td>0.24</td>\n",
       "      <td>0.32</td>\n",
       "      <td>6</td>\n",
       "      <td>18</td>\n",
       "      <td>20</td>\n",
       "      <td>work</td>\n",
       "    </tr>\n",
       "    <tr>\n",
       "      <th>4</th>\n",
       "      <td>5</td>\n",
       "      <td>Tesla</td>\n",
       "      <td>Model 3 Long Range</td>\n",
       "      <td>75</td>\n",
       "      <td>11</td>\n",
       "      <td>0.24</td>\n",
       "      <td>0.46</td>\n",
       "      <td>6</td>\n",
       "      <td>17</td>\n",
       "      <td>20</td>\n",
       "      <td>work</td>\n",
       "    </tr>\n",
       "    <tr>\n",
       "      <th>5</th>\n",
       "      <td>6</td>\n",
       "      <td>Tesla</td>\n",
       "      <td>Model 3 Long Range</td>\n",
       "      <td>75</td>\n",
       "      <td>11</td>\n",
       "      <td>0.24</td>\n",
       "      <td>0.80</td>\n",
       "      <td>7</td>\n",
       "      <td>16</td>\n",
       "      <td>20</td>\n",
       "      <td>home</td>\n",
       "    </tr>\n",
       "    <tr>\n",
       "      <th>6</th>\n",
       "      <td>7</td>\n",
       "      <td>Tesla</td>\n",
       "      <td>Model 3 Long Range</td>\n",
       "      <td>75</td>\n",
       "      <td>11</td>\n",
       "      <td>0.24</td>\n",
       "      <td>0.19</td>\n",
       "      <td>6</td>\n",
       "      <td>17</td>\n",
       "      <td>20</td>\n",
       "      <td>home</td>\n",
       "    </tr>\n",
       "    <tr>\n",
       "      <th>7</th>\n",
       "      <td>8</td>\n",
       "      <td>Tesla</td>\n",
       "      <td>Model 3 Long Range</td>\n",
       "      <td>75</td>\n",
       "      <td>11</td>\n",
       "      <td>0.24</td>\n",
       "      <td>0.49</td>\n",
       "      <td>6</td>\n",
       "      <td>17</td>\n",
       "      <td>20</td>\n",
       "      <td>both</td>\n",
       "    </tr>\n",
       "    <tr>\n",
       "      <th>8</th>\n",
       "      <td>9</td>\n",
       "      <td>Tesla</td>\n",
       "      <td>Model 3 Long Range</td>\n",
       "      <td>75</td>\n",
       "      <td>11</td>\n",
       "      <td>0.24</td>\n",
       "      <td>0.74</td>\n",
       "      <td>7</td>\n",
       "      <td>16</td>\n",
       "      <td>20</td>\n",
       "      <td>work</td>\n",
       "    </tr>\n",
       "    <tr>\n",
       "      <th>9</th>\n",
       "      <td>10</td>\n",
       "      <td>Tesla</td>\n",
       "      <td>Model 3 Long Range</td>\n",
       "      <td>75</td>\n",
       "      <td>11</td>\n",
       "      <td>0.24</td>\n",
       "      <td>0.42</td>\n",
       "      <td>8</td>\n",
       "      <td>18</td>\n",
       "      <td>20</td>\n",
       "      <td>both</td>\n",
       "    </tr>\n",
       "  </tbody>\n",
       "</table>\n",
       "</div>"
      ],
      "text/plain": [
       "   VehID   Make               Model  Battery_Capacity_kWh  Charging_Rating_kW  \\\n",
       "0      1  Tesla  Model 3 Long Range                    75                  11   \n",
       "1      2  Tesla  Model 3 Long Range                    75                  11   \n",
       "2      3  Tesla  Model 3 Long Range                    75                  11   \n",
       "3      4  Tesla  Model 3 Long Range                    75                  11   \n",
       "4      5  Tesla  Model 3 Long Range                    75                  11   \n",
       "5      6  Tesla  Model 3 Long Range                    75                  11   \n",
       "6      7  Tesla  Model 3 Long Range                    75                  11   \n",
       "7      8  Tesla  Model 3 Long Range                    75                  11   \n",
       "8      9  Tesla  Model 3 Long Range                    75                  11   \n",
       "9     10  Tesla  Model 3 Long Range                    75                  11   \n",
       "\n",
       "   Fuel_Econ_kWh/mi  Init_SOC  AM_Commute_Hr  PM_Commute_Hr  \\\n",
       "0              0.24      0.39              7             16   \n",
       "1              0.24      0.70              8             17   \n",
       "2              0.24      0.59              7             17   \n",
       "3              0.24      0.32              6             18   \n",
       "4              0.24      0.46              6             17   \n",
       "5              0.24      0.80              7             16   \n",
       "6              0.24      0.19              6             17   \n",
       "7              0.24      0.49              6             17   \n",
       "8              0.24      0.74              7             16   \n",
       "9              0.24      0.42              8             18   \n",
       "\n",
       "   Commute_mi_per_trip charge_access  \n",
       "0                   20          home  \n",
       "1                   20          both  \n",
       "2                   20          home  \n",
       "3                   20          work  \n",
       "4                   20          work  \n",
       "5                   20          home  \n",
       "6                   20          home  \n",
       "7                   20          both  \n",
       "8                   20          work  \n",
       "9                   20          both  "
      ]
     },
     "execution_count": 4,
     "metadata": {},
     "output_type": "execute_result"
    }
   ],
   "source": [
    "veh_pop_full = pd.read_csv(\"Vehicle_Input_Data.csv\")\n",
    "veh_pop_full = veh_pop_full.drop(columns = ['Unnamed: 0'])\n",
    "veh_pop_full"
   ]
  },
  {
   "cell_type": "markdown",
   "id": "94fcaaa6",
   "metadata": {},
   "source": [
    "## For First Test of Code, Use Just One Vehicle"
   ]
  },
  {
   "cell_type": "code",
   "execution_count": 5,
   "id": "4a0d3961",
   "metadata": {},
   "outputs": [],
   "source": [
    "veh_num = 1"
   ]
  },
  {
   "cell_type": "code",
   "execution_count": 6,
   "id": "e80ca0ce",
   "metadata": {},
   "outputs": [
    {
     "data": {
      "text/html": [
       "<div>\n",
       "<style scoped>\n",
       "    .dataframe tbody tr th:only-of-type {\n",
       "        vertical-align: middle;\n",
       "    }\n",
       "\n",
       "    .dataframe tbody tr th {\n",
       "        vertical-align: top;\n",
       "    }\n",
       "\n",
       "    .dataframe thead th {\n",
       "        text-align: right;\n",
       "    }\n",
       "</style>\n",
       "<table border=\"1\" class=\"dataframe\">\n",
       "  <thead>\n",
       "    <tr style=\"text-align: right;\">\n",
       "      <th></th>\n",
       "      <th>VehID</th>\n",
       "      <th>Make</th>\n",
       "      <th>Model</th>\n",
       "      <th>Battery_Capacity_kWh</th>\n",
       "      <th>Charging_Rating_kW</th>\n",
       "      <th>Fuel_Econ_kWh/mi</th>\n",
       "      <th>Init_SOC</th>\n",
       "      <th>AM_Commute_Hr</th>\n",
       "      <th>PM_Commute_Hr</th>\n",
       "      <th>Commute_mi_per_trip</th>\n",
       "      <th>charge_access</th>\n",
       "    </tr>\n",
       "  </thead>\n",
       "  <tbody>\n",
       "    <tr>\n",
       "      <th>0</th>\n",
       "      <td>1</td>\n",
       "      <td>Tesla</td>\n",
       "      <td>Model 3 Long Range</td>\n",
       "      <td>75</td>\n",
       "      <td>11</td>\n",
       "      <td>0.24</td>\n",
       "      <td>0.39</td>\n",
       "      <td>7</td>\n",
       "      <td>16</td>\n",
       "      <td>20</td>\n",
       "      <td>home</td>\n",
       "    </tr>\n",
       "  </tbody>\n",
       "</table>\n",
       "</div>"
      ],
      "text/plain": [
       "   VehID   Make               Model  Battery_Capacity_kWh  Charging_Rating_kW  \\\n",
       "0      1  Tesla  Model 3 Long Range                    75                  11   \n",
       "\n",
       "   Fuel_Econ_kWh/mi  Init_SOC  AM_Commute_Hr  PM_Commute_Hr  \\\n",
       "0              0.24      0.39              7             16   \n",
       "\n",
       "   Commute_mi_per_trip charge_access  \n",
       "0                   20          home  "
      ]
     },
     "execution_count": 6,
     "metadata": {},
     "output_type": "execute_result"
    }
   ],
   "source": [
    "veh_pop = veh_pop_full[0:veh_num]\n",
    "veh_pop"
   ]
  },
  {
   "cell_type": "markdown",
   "id": "9e49cc82",
   "metadata": {},
   "source": [
    "## Prepare Timeseries Dataframes for known information"
   ]
  },
  {
   "cell_type": "markdown",
   "id": "f5a5680b",
   "metadata": {},
   "source": [
    "### Driving Energy Consumption for each Hour and Vehicle (veh_num x 24hr array) -- populate based on commuting hours, fuel economy, and trip length"
   ]
  },
  {
   "cell_type": "code",
   "execution_count": 7,
   "id": "01f4548b",
   "metadata": {},
   "outputs": [
    {
     "name": "stderr",
     "output_type": "stream",
     "text": [
      "/var/folders/66/5w9ddbys20s46gg6n2pv35r00000gn/T/ipykernel_19949/1606175932.py:17: SettingWithCopyWarning: \n",
      "A value is trying to be set on a copy of a slice from a DataFrame\n",
      "\n",
      "See the caveats in the documentation: https://pandas.pydata.org/pandas-docs/stable/user_guide/indexing.html#returning-a-view-versus-a-copy\n",
      "  driving_df[\"Hr\" + str(pm_hr)][row] = round(veh_pop[\"Fuel_Econ_kWh/mi\"][row] * veh_pop[\"Commute_mi_per_trip\"][row],2)\n"
     ]
    },
    {
     "data": {
      "text/html": [
       "<div>\n",
       "<style scoped>\n",
       "    .dataframe tbody tr th:only-of-type {\n",
       "        vertical-align: middle;\n",
       "    }\n",
       "\n",
       "    .dataframe tbody tr th {\n",
       "        vertical-align: top;\n",
       "    }\n",
       "\n",
       "    .dataframe thead th {\n",
       "        text-align: right;\n",
       "    }\n",
       "</style>\n",
       "<table border=\"1\" class=\"dataframe\">\n",
       "  <thead>\n",
       "    <tr style=\"text-align: right;\">\n",
       "      <th></th>\n",
       "      <th>VehID</th>\n",
       "      <th>Hr0</th>\n",
       "      <th>Hr1</th>\n",
       "      <th>Hr2</th>\n",
       "      <th>Hr3</th>\n",
       "      <th>Hr4</th>\n",
       "      <th>Hr5</th>\n",
       "      <th>Hr6</th>\n",
       "      <th>Hr7</th>\n",
       "      <th>Hr8</th>\n",
       "      <th>...</th>\n",
       "      <th>Hr14</th>\n",
       "      <th>Hr15</th>\n",
       "      <th>Hr16</th>\n",
       "      <th>Hr17</th>\n",
       "      <th>Hr18</th>\n",
       "      <th>Hr19</th>\n",
       "      <th>Hr20</th>\n",
       "      <th>Hr21</th>\n",
       "      <th>Hr22</th>\n",
       "      <th>Hr23</th>\n",
       "    </tr>\n",
       "  </thead>\n",
       "  <tbody>\n",
       "    <tr>\n",
       "      <th>0</th>\n",
       "      <td>1</td>\n",
       "      <td>0</td>\n",
       "      <td>0</td>\n",
       "      <td>0</td>\n",
       "      <td>0</td>\n",
       "      <td>0</td>\n",
       "      <td>0</td>\n",
       "      <td>0</td>\n",
       "      <td>4.8</td>\n",
       "      <td>0</td>\n",
       "      <td>...</td>\n",
       "      <td>0</td>\n",
       "      <td>0</td>\n",
       "      <td>4.8</td>\n",
       "      <td>0</td>\n",
       "      <td>0</td>\n",
       "      <td>0</td>\n",
       "      <td>0</td>\n",
       "      <td>0</td>\n",
       "      <td>0</td>\n",
       "      <td>0</td>\n",
       "    </tr>\n",
       "  </tbody>\n",
       "</table>\n",
       "<p>1 rows × 25 columns</p>\n",
       "</div>"
      ],
      "text/plain": [
       "   VehID  Hr0  Hr1  Hr2  Hr3  Hr4  Hr5  Hr6  Hr7  Hr8  ...  Hr14  Hr15  Hr16  \\\n",
       "0      1    0    0    0    0    0    0    0  4.8    0  ...     0     0   4.8   \n",
       "\n",
       "   Hr17  Hr18  Hr19  Hr20  Hr21  Hr22  Hr23  \n",
       "0     0     0     0     0     0     0     0  \n",
       "\n",
       "[1 rows x 25 columns]"
      ]
     },
     "execution_count": 7,
     "metadata": {},
     "output_type": "execute_result"
    }
   ],
   "source": [
    "driving_df = pd.DataFrame(columns = [\"VehID\"] + [\"Hr\"+str(i) for i in range(24)])\n",
    "driving_df[\"VehID\"] = veh_pop[\"VehID\"]\n",
    "\n",
    "# Fill in all Hr columns with 0s to start\n",
    "for col in driving_df.columns[1:]:\n",
    "    driving_df[col] = [0]*veh_num\n",
    "\n",
    "# Fill in commuting behavior\n",
    "for row in range(veh_num):\n",
    "    \n",
    "    # Update value for AM commute hour\n",
    "    am_hr = veh_pop[\"AM_Commute_Hr\"][row]\n",
    "    driving_df[\"Hr\" + str(am_hr)][row] = round(veh_pop[\"Fuel_Econ_kWh/mi\"][row] * veh_pop[\"Commute_mi_per_trip\"][row],2)\n",
    "    \n",
    "    # Update value for PM commute hour\n",
    "    pm_hr = veh_pop[\"PM_Commute_Hr\"][row]\n",
    "    driving_df[\"Hr\" + str(pm_hr)][row] = round(veh_pop[\"Fuel_Econ_kWh/mi\"][row] * veh_pop[\"Commute_mi_per_trip\"][row],2)\n",
    "\n",
    "driving_df"
   ]
  },
  {
   "cell_type": "markdown",
   "id": "adccf8a1",
   "metadata": {},
   "source": [
    "### Convert to Array"
   ]
  },
  {
   "cell_type": "code",
   "execution_count": 8,
   "id": "a654bc80",
   "metadata": {},
   "outputs": [
    {
     "data": {
      "text/plain": [
       "(1, 24)"
      ]
     },
     "execution_count": 8,
     "metadata": {},
     "output_type": "execute_result"
    }
   ],
   "source": [
    "driving_array = np.array(driving_df.drop(columns=[\"VehID\"]))\n",
    "driving_array.shape"
   ]
  },
  {
   "cell_type": "markdown",
   "id": "82317bfe",
   "metadata": {},
   "source": [
    "### Charger Availability (yes = 1 or no = 0) for each hour and vehicle (veh_num x 24hr array) -- populate based on charger access (home/work/both) and commuting schedule"
   ]
  },
  {
   "cell_type": "code",
   "execution_count": 9,
   "id": "a508ff3e",
   "metadata": {},
   "outputs": [
    {
     "data": {
      "text/html": [
       "<div>\n",
       "<style scoped>\n",
       "    .dataframe tbody tr th:only-of-type {\n",
       "        vertical-align: middle;\n",
       "    }\n",
       "\n",
       "    .dataframe tbody tr th {\n",
       "        vertical-align: top;\n",
       "    }\n",
       "\n",
       "    .dataframe thead th {\n",
       "        text-align: right;\n",
       "    }\n",
       "</style>\n",
       "<table border=\"1\" class=\"dataframe\">\n",
       "  <thead>\n",
       "    <tr style=\"text-align: right;\">\n",
       "      <th></th>\n",
       "      <th>VehID</th>\n",
       "      <th>Hr0</th>\n",
       "      <th>Hr1</th>\n",
       "      <th>Hr2</th>\n",
       "      <th>Hr3</th>\n",
       "      <th>Hr4</th>\n",
       "      <th>Hr5</th>\n",
       "      <th>Hr6</th>\n",
       "      <th>Hr7</th>\n",
       "      <th>Hr8</th>\n",
       "      <th>...</th>\n",
       "      <th>Hr14</th>\n",
       "      <th>Hr15</th>\n",
       "      <th>Hr16</th>\n",
       "      <th>Hr17</th>\n",
       "      <th>Hr18</th>\n",
       "      <th>Hr19</th>\n",
       "      <th>Hr20</th>\n",
       "      <th>Hr21</th>\n",
       "      <th>Hr22</th>\n",
       "      <th>Hr23</th>\n",
       "    </tr>\n",
       "  </thead>\n",
       "  <tbody>\n",
       "    <tr>\n",
       "      <th>0</th>\n",
       "      <td>1</td>\n",
       "      <td>1</td>\n",
       "      <td>1</td>\n",
       "      <td>1</td>\n",
       "      <td>1</td>\n",
       "      <td>1</td>\n",
       "      <td>1</td>\n",
       "      <td>1</td>\n",
       "      <td>0</td>\n",
       "      <td>0</td>\n",
       "      <td>...</td>\n",
       "      <td>0</td>\n",
       "      <td>0</td>\n",
       "      <td>0</td>\n",
       "      <td>1</td>\n",
       "      <td>1</td>\n",
       "      <td>1</td>\n",
       "      <td>1</td>\n",
       "      <td>1</td>\n",
       "      <td>1</td>\n",
       "      <td>1</td>\n",
       "    </tr>\n",
       "  </tbody>\n",
       "</table>\n",
       "<p>1 rows × 25 columns</p>\n",
       "</div>"
      ],
      "text/plain": [
       "   VehID Hr0 Hr1 Hr2 Hr3 Hr4 Hr5 Hr6 Hr7 Hr8  ... Hr14 Hr15 Hr16 Hr17 Hr18  \\\n",
       "0      1   1   1   1   1   1   1   1   0   0  ...    0    0    0    1    1   \n",
       "\n",
       "  Hr19 Hr20 Hr21 Hr22 Hr23  \n",
       "0    1    1    1    1    1  \n",
       "\n",
       "[1 rows x 25 columns]"
      ]
     },
     "execution_count": 9,
     "metadata": {},
     "output_type": "execute_result"
    }
   ],
   "source": [
    "chgr_avail_df = pd.DataFrame(columns = [\"VehID\"] + [\"Hr\"+str(i) for i in range(24)])\n",
    "chgr_avail_df[\"VehID\"] = veh_pop[\"VehID\"]\n",
    "\n",
    "# Iterate by vehicle\n",
    "for row in range(veh_num):\n",
    "    \n",
    "    # Pull charge_access classification\n",
    "    chgr_access = veh_pop[\"charge_access\"][row]\n",
    "    \n",
    "    # Fill in 0's and 1's\n",
    "    if chgr_access == \"both\":\n",
    "        # charger always available\n",
    "        chgr_avail_df.loc[row,chgr_avail_df.columns[1:]] = [1]*24\n",
    "    \n",
    "    elif chgr_access == \"home\":\n",
    "        # charger available for hours before AM commute and after PM commute\n",
    "        before_AM = [1 for hr in range(0,veh_pop[\"AM_Commute_Hr\"][row])] # yes charger\n",
    "        at_work = [0 for hr in range(veh_pop[\"AM_Commute_Hr\"][row], veh_pop[\"PM_Commute_Hr\"][row]+1)] # no charger\n",
    "        after_PM = [1 for hr in range(veh_pop[\"PM_Commute_Hr\"][row] + 1, 24)] # yes charger\n",
    "        chgr_avail_df.loc[row,chgr_avail_df.columns[1:]] = before_AM + at_work + after_PM\n",
    "    \n",
    "    else: # \"work\"\n",
    "        # charge available after AM commute and before PM commute\n",
    "        before_AM = [0 for hr in range(0,veh_pop[\"AM_Commute_Hr\"][row] + 1)] # no charger\n",
    "        at_work = [1 for hr in range(veh_pop[\"AM_Commute_Hr\"][row] + 1, veh_pop[\"PM_Commute_Hr\"][row])] # yes charger\n",
    "        after_PM = [0 for hr in range(veh_pop[\"PM_Commute_Hr\"][row], 24)] # no charger\n",
    "        chgr_avail_df.loc[row,chgr_avail_df.columns[1:]] = before_AM + at_work + after_PM\n",
    "        \n",
    "chgr_avail_df"
   ]
  },
  {
   "cell_type": "markdown",
   "id": "04898eef",
   "metadata": {},
   "source": [
    "### Convert to array"
   ]
  },
  {
   "cell_type": "code",
   "execution_count": 10,
   "id": "b6bdd8b3",
   "metadata": {},
   "outputs": [
    {
     "data": {
      "text/plain": [
       "(1, 24)"
      ]
     },
     "execution_count": 10,
     "metadata": {},
     "output_type": "execute_result"
    }
   ],
   "source": [
    "chgr_avail_array = np.array(chgr_avail_df.drop(columns = [\"VehID\"]))\n",
    "chgr_avail_array.shape"
   ]
  },
  {
   "cell_type": "markdown",
   "id": "51ac1f08",
   "metadata": {},
   "source": [
    "## Optimization Problem Set-Up"
   ]
  },
  {
   "cell_type": "markdown",
   "id": "34e84ca6",
   "metadata": {},
   "source": [
    "Code Outline:\n",
    "\n",
    "* Hr0 --> we know initial SOC at the start for each vehicle\n",
    "    * Define charge used for driving (should update the matrix to multiply through by kWh/mi * mi since assuming all the same -- can build into veh_pop if want)\n",
    "       * Known parameter from imported EV info, TBD if needs to be declared as constraints\n",
    "    * Define charge added to battery as (charging rate fraction) * (max charging rate) * (duration)\n",
    "        * Charging Rate Fraction should be a veh_num x 24 hrs array of variables\n",
    "            * Constraint: 0 <= r <= 1\n",
    "        * Max charging rate is a known parameter (vals imported as part of EV info)\n",
    "        * Duration is set at 1 hour until decide to update the code to change intervals\n",
    "    * Calculate the SOC at the end of the hour = SOC for start of next Hr\n",
    "        * SOC(t+1) = ((SOC(t) * Battery Capacity kWh) - Driving kWh + Charging kWh)/Battery Capacity kWh\n",
    "        * SOC should be set up as a veh_num x 24 hrs array of variables and as part of the constraints step, set the initial condition for SOC at hr0 for each vehicle\n",
    "        * SOC cannot fall below 10%\n",
    "        * SOC must be at least 80% by the time done charging\n",
    "            * need to find a way to indicate start and end of charging period\n",
    "            * and try to incorporate constraint that makes it continuous once charging starts\n",
    "* Iterate over all timesteps \n",
    "* At the end should have a filled out array of charging rate fractions by vehicle and hr\n",
    "* Can multiply it by the max charging rate (tech. spec) for each vehicle\n",
    "* Then sum up EV charging load across all vehicles for each hour\n",
    "    * Need to represent this calculation as a constraint and EV charging load by hour as var\n",
    "* Then sum the existing load and the EV charging load to get total load by hour\n",
    "    * the existing load is a known dataset\n",
    "    * this total load is constrained by the Feeder capacity\n",
    "    * it is also constrained by a ramp rate limit --> make an assumption of <20% for now\n",
    "    * The array of total load by hour is the basis for the optimization fxn goal\n"
   ]
  },
  {
   "cell_type": "markdown",
   "id": "90a38296",
   "metadata": {},
   "source": [
    "### Identify Existing Load Data that want to use (have low, medium, and high estimates available --- starting with medium and can see what have time for)"
   ]
  },
  {
   "cell_type": "code",
   "execution_count": 11,
   "id": "b0d184cd",
   "metadata": {},
   "outputs": [
    {
     "data": {
      "text/plain": [
       "array([2377., 2386., 2230., 2076., 1972., 1927., 1958., 2111., 2380.,\n",
       "       2366., 2113., 1802., 1500., 1247., 1197., 1208., 1357., 1732.,\n",
       "       2307., 2776., 2973., 3051., 2979., 2700.])"
      ]
     },
     "execution_count": 11,
     "metadata": {},
     "output_type": "execute_result"
    }
   ],
   "source": [
    "exist_load = np.array([oak_load[\"Med_kW\"]]).reshape(24)\n",
    "exist_load"
   ]
  },
  {
   "cell_type": "markdown",
   "id": "48705645",
   "metadata": {},
   "source": [
    "### Define Optimization Variables"
   ]
  },
  {
   "cell_type": "code",
   "execution_count": 12,
   "id": "ed86feb3",
   "metadata": {},
   "outputs": [],
   "source": [
    "time_steps = 24 # hours\n",
    "time_delta = 1 # hour\n",
    "\n",
    "# Total Load = Existing Load + EV Load (by hour)\n",
    "tot_load = Variable(time_steps)\n",
    "\n",
    "# EV Load = Sum EV Load over all vehicles (by hour)\n",
    "ev_load = Variable(time_steps)\n",
    "\n",
    "# Charge Added (Load) (kWh), by vehicle, by hour\n",
    "chrg_added = Variable((veh_num, time_steps))\n",
    "\n",
    "# Charging Rate as Fraction of Maximum Feasible Rate (by vehicle, by hour)\n",
    "chrg_rate_frac = Variable((veh_num, time_steps))\n",
    "\n",
    "# Battery State of Charge (SOC) at start of each hour (by vehicle, by hour)\n",
    "soc = Variable((veh_num, time_steps))\n"
   ]
  },
  {
   "cell_type": "markdown",
   "id": "7d195f97",
   "metadata": {},
   "source": [
    "### Define Objective Function"
   ]
  },
  {
   "cell_type": "code",
   "execution_count": 13,
   "id": "1a51c9b6",
   "metadata": {},
   "outputs": [],
   "source": [
    "# Minimize the peak demand once EV incorporated\n",
    "\n",
    "objective = Minimize(max(tot_load))"
   ]
  },
  {
   "cell_type": "markdown",
   "id": "53afbb74",
   "metadata": {},
   "source": [
    "### Define Constraints"
   ]
  },
  {
   "cell_type": "code",
   "execution_count": 14,
   "id": "adc411bf",
   "metadata": {},
   "outputs": [],
   "source": [
    "constraints = []"
   ]
  },
  {
   "cell_type": "markdown",
   "id": "bb2330a6",
   "metadata": {},
   "source": [
    "#### Specify Initial Conditions for SOC as equality constraints"
   ]
  },
  {
   "cell_type": "code",
   "execution_count": 15,
   "id": "d48c9682",
   "metadata": {},
   "outputs": [],
   "source": [
    "constraints += [soc[veh,0] == veh_pop[\"Init_SOC\"][veh] for veh in range(veh_num)]"
   ]
  },
  {
   "cell_type": "markdown",
   "id": "a53a22c3",
   "metadata": {},
   "source": [
    "#### Constrain SOC to be between 0 and 1"
   ]
  },
  {
   "cell_type": "code",
   "execution_count": 16,
   "id": "bd77fdce",
   "metadata": {},
   "outputs": [],
   "source": [
    "constraints += [0 <= soc]\n",
    "constraints += [soc <= 1]"
   ]
  },
  {
   "cell_type": "markdown",
   "id": "bd0b5d9e",
   "metadata": {},
   "source": [
    "#### Constraint SOC to specify that at least 80% charging must be reached by a certain time (TBD - NOT IMPLEMENTED YET)"
   ]
  },
  {
   "cell_type": "code",
   "execution_count": 17,
   "id": "b0e5f565",
   "metadata": {},
   "outputs": [],
   "source": [
    "# TBD\n",
    "\n",
    "\n"
   ]
  },
  {
   "cell_type": "markdown",
   "id": "848e24da",
   "metadata": {},
   "source": [
    "#### Constrain Charging Rate Fraction:\n",
    "1) 0 <= r <= 1 (by definition as a fraction of max value)\n",
    "2) r <= Charger Availability Status --> this ensures that the charging rate goes to 0 if there is no charger available (status = 0) --> if there is a charger available, it acts as a redundant constraint on <= 1"
   ]
  },
  {
   "cell_type": "code",
   "execution_count": 18,
   "id": "1eff3a05",
   "metadata": {},
   "outputs": [],
   "source": [
    "constraints += [0 <= chrg_rate_frac]\n",
    "constraints += [chrg_rate_frac <= 1]\n",
    "constraints += [chrg_rate_frac <= chgr_avail_array]"
   ]
  },
  {
   "cell_type": "markdown",
   "id": "c80b97b8",
   "metadata": {},
   "source": [
    "#### Constrain Battery Dynamics"
   ]
  },
  {
   "cell_type": "code",
   "execution_count": 19,
   "id": "9dbb076a",
   "metadata": {},
   "outputs": [],
   "source": [
    "# Generate Constraints by iterating over all time steps\n",
    "\n",
    "# Iterate by Vehicle\n",
    "for veh in range(veh_num):\n",
    "    \n",
    "    # hrs 0 to 23 -- may be refined to more granular time intervals time permitting\n",
    "    for t in range(time_steps):\n",
    "    \n",
    "        # Charge Supply from EV Charging = Charging Rate Fraction * Max Rate * Duration\n",
    "        # Charging Rate Fraction is a set of optimization variables to be determined\n",
    "        constraints += [chrg_added[veh,t] == chrg_rate_frac[veh,t] * veh_pop[\"Charging_Rating_kW\"][veh] * time_delta]\n",
    "\n",
    "        # State of Charge at End of Time Step / For Start of Next Time Step\n",
    "        # kWh @ start of hour + kWh added by charging - kWh consumed by driving\n",
    "        # charging OR driving OR no action for any given timestep (accounted for in setup)\n",
    "        # Renormalized back to SOC fraction\n",
    "\n",
    "        # If on the last time step index, no need to calculate the next one\n",
    "        if t == time_steps - 1:\n",
    "            pass\n",
    "        else:\n",
    "            constraints += [soc[veh,t+1] == ( (soc[veh,t] * veh_pop[\"Battery_Capacity_kWh\"]) + chrg_added[veh,t] - driving_array[veh,t] ) / veh_pop[\"Charging_Rating_kW\"][veh]]\n",
    "\n"
   ]
  },
  {
   "cell_type": "markdown",
   "id": "08359582",
   "metadata": {},
   "source": [
    "#### Constrain EV Load (equality constraint summing charg_added across vehicles by time step)"
   ]
  },
  {
   "cell_type": "code",
   "execution_count": 20,
   "id": "51701499",
   "metadata": {},
   "outputs": [],
   "source": [
    "for time in range(time_steps):\n",
    "    \n",
    "    constraints += [ev_load[time] == chrg_added[:,time].cumsum(axis = 0)]"
   ]
  },
  {
   "cell_type": "markdown",
   "id": "ebca8ec2",
   "metadata": {},
   "source": [
    "#### Constrain Total Load (equality constraint at each time step)"
   ]
  },
  {
   "cell_type": "code",
   "execution_count": 21,
   "id": "43364819",
   "metadata": {},
   "outputs": [],
   "source": [
    "for time in range(time_steps):\n",
    "    \n",
    "    constraints += [tot_load[time] == ev_load[time] + exist_load[time]]"
   ]
  },
  {
   "cell_type": "markdown",
   "id": "86510649",
   "metadata": {},
   "source": [
    "#### Constrain Total Load to remain below kW capacity limit of Feeder"
   ]
  },
  {
   "cell_type": "code",
   "execution_count": 22,
   "id": "67f96771",
   "metadata": {},
   "outputs": [],
   "source": [
    "constraints += [tot_load <= oak_capacity]"
   ]
  },
  {
   "cell_type": "markdown",
   "id": "a2e16609",
   "metadata": {},
   "source": [
    "#### Constrain Total Load Ramp Rates between time steps"
   ]
  },
  {
   "cell_type": "code",
   "execution_count": 24,
   "id": "bd393507",
   "metadata": {},
   "outputs": [],
   "source": [
    "# Assume a ramp limit --> The load at current time step cannot be more than X% of prior load\n",
    "ramp_limit = 0.10\n",
    "\n",
    "for time in range(1, time_steps):\n",
    "    constraints += [(tot_load[time] * 1/tot_load[time-1] - 1) <= ramp_limit]"
   ]
  },
  {
   "cell_type": "markdown",
   "id": "71eb1a06",
   "metadata": {},
   "source": [
    "### Run Optimization Solver"
   ]
  },
  {
   "cell_type": "code",
   "execution_count": 25,
   "id": "9e248bdb",
   "metadata": {},
   "outputs": [
    {
     "ename": "DCPError",
     "evalue": "Problem does not follow DCP rules. Specifically:\nThe following constraints are not DCP:\nvar1[1] @ 1.0 / var1[0] + -1.0 <= 0.1 , because the following subexpressions are not:\n|--  var1[1] @ 1.0 / var1[0]\nvar1[2] @ 1.0 / var1[1] + -1.0 <= 0.1 , because the following subexpressions are not:\n|--  var1[2] @ 1.0 / var1[1]\nvar1[3] @ 1.0 / var1[2] + -1.0 <= 0.1 , because the following subexpressions are not:\n|--  var1[3] @ 1.0 / var1[2]\nvar1[4] @ 1.0 / var1[3] + -1.0 <= 0.1 , because the following subexpressions are not:\n|--  var1[4] @ 1.0 / var1[3]\nvar1[5] @ 1.0 / var1[4] + -1.0 <= 0.1 , because the following subexpressions are not:\n|--  var1[5] @ 1.0 / var1[4]\nvar1[6] @ 1.0 / var1[5] + -1.0 <= 0.1 , because the following subexpressions are not:\n|--  var1[6] @ 1.0 / var1[5]\nvar1[7] @ 1.0 / var1[6] + -1.0 <= 0.1 , because the following subexpressions are not:\n|--  var1[7] @ 1.0 / var1[6]\nvar1[8] @ 1.0 / var1[7] + -1.0 <= 0.1 , because the following subexpressions are not:\n|--  var1[8] @ 1.0 / var1[7]\nvar1[9] @ 1.0 / var1[8] + -1.0 <= 0.1 , because the following subexpressions are not:\n|--  var1[9] @ 1.0 / var1[8]\nvar1[10] @ 1.0 / var1[9] + -1.0 <= 0.1 , because the following subexpressions are not:\n|--  var1[10] @ 1.0 / var1[9]\nvar1[11] @ 1.0 / var1[10] + -1.0 <= 0.1 , because the following subexpressions are not:\n|--  var1[11] @ 1.0 / var1[10]\nvar1[12] @ 1.0 / var1[11] + -1.0 <= 0.1 , because the following subexpressions are not:\n|--  var1[12] @ 1.0 / var1[11]\nvar1[13] @ 1.0 / var1[12] + -1.0 <= 0.1 , because the following subexpressions are not:\n|--  var1[13] @ 1.0 / var1[12]\nvar1[14] @ 1.0 / var1[13] + -1.0 <= 0.1 , because the following subexpressions are not:\n|--  var1[14] @ 1.0 / var1[13]\nvar1[15] @ 1.0 / var1[14] + -1.0 <= 0.1 , because the following subexpressions are not:\n|--  var1[15] @ 1.0 / var1[14]\nvar1[16] @ 1.0 / var1[15] + -1.0 <= 0.1 , because the following subexpressions are not:\n|--  var1[16] @ 1.0 / var1[15]\nvar1[17] @ 1.0 / var1[16] + -1.0 <= 0.1 , because the following subexpressions are not:\n|--  var1[17] @ 1.0 / var1[16]\nvar1[18] @ 1.0 / var1[17] + -1.0 <= 0.1 , because the following subexpressions are not:\n|--  var1[18] @ 1.0 / var1[17]\nvar1[19] @ 1.0 / var1[18] + -1.0 <= 0.1 , because the following subexpressions are not:\n|--  var1[19] @ 1.0 / var1[18]\nvar1[20] @ 1.0 / var1[19] + -1.0 <= 0.1 , because the following subexpressions are not:\n|--  var1[20] @ 1.0 / var1[19]\nvar1[21] @ 1.0 / var1[20] + -1.0 <= 0.1 , because the following subexpressions are not:\n|--  var1[21] @ 1.0 / var1[20]\nvar1[22] @ 1.0 / var1[21] + -1.0 <= 0.1 , because the following subexpressions are not:\n|--  var1[22] @ 1.0 / var1[21]\nvar1[23] @ 1.0 / var1[22] + -1.0 <= 0.1 , because the following subexpressions are not:\n|--  var1[23] @ 1.0 / var1[22]",
     "output_type": "error",
     "traceback": [
      "\u001b[0;31m---------------------------------------------------------------------------\u001b[0m",
      "\u001b[0;31mDCPError\u001b[0m                                  Traceback (most recent call last)",
      "Cell \u001b[0;32mIn[25], line 2\u001b[0m\n\u001b[1;32m      1\u001b[0m one_car \u001b[38;5;241m=\u001b[39m Problem(objective, constraints)\n\u001b[0;32m----> 2\u001b[0m \u001b[43mone_car\u001b[49m\u001b[38;5;241;43m.\u001b[39;49m\u001b[43msolve\u001b[49m\u001b[43m(\u001b[49m\u001b[43m)\u001b[49m\n",
      "File \u001b[0;32m~/anaconda3/lib/python3.10/site-packages/cvxpy/problems/problem.py:503\u001b[0m, in \u001b[0;36mProblem.solve\u001b[0;34m(self, *args, **kwargs)\u001b[0m\n\u001b[1;32m    501\u001b[0m \u001b[38;5;28;01melse\u001b[39;00m:\n\u001b[1;32m    502\u001b[0m     solve_func \u001b[38;5;241m=\u001b[39m Problem\u001b[38;5;241m.\u001b[39m_solve\n\u001b[0;32m--> 503\u001b[0m \u001b[38;5;28;01mreturn\u001b[39;00m \u001b[43msolve_func\u001b[49m\u001b[43m(\u001b[49m\u001b[38;5;28;43mself\u001b[39;49m\u001b[43m,\u001b[49m\u001b[43m \u001b[49m\u001b[38;5;241;43m*\u001b[39;49m\u001b[43margs\u001b[49m\u001b[43m,\u001b[49m\u001b[43m \u001b[49m\u001b[38;5;241;43m*\u001b[39;49m\u001b[38;5;241;43m*\u001b[39;49m\u001b[43mkwargs\u001b[49m\u001b[43m)\u001b[49m\n",
      "File \u001b[0;32m~/anaconda3/lib/python3.10/site-packages/cvxpy/problems/problem.py:1072\u001b[0m, in \u001b[0;36mProblem._solve\u001b[0;34m(self, solver, warm_start, verbose, gp, qcp, requires_grad, enforce_dpp, ignore_dpp, canon_backend, **kwargs)\u001b[0m\n\u001b[1;32m   1069\u001b[0m         \u001b[38;5;28mself\u001b[39m\u001b[38;5;241m.\u001b[39munpack(chain\u001b[38;5;241m.\u001b[39mretrieve(soln))\n\u001b[1;32m   1070\u001b[0m         \u001b[38;5;28;01mreturn\u001b[39;00m \u001b[38;5;28mself\u001b[39m\u001b[38;5;241m.\u001b[39mvalue\n\u001b[0;32m-> 1072\u001b[0m data, solving_chain, inverse_data \u001b[38;5;241m=\u001b[39m \u001b[38;5;28;43mself\u001b[39;49m\u001b[38;5;241;43m.\u001b[39;49m\u001b[43mget_problem_data\u001b[49m\u001b[43m(\u001b[49m\n\u001b[1;32m   1073\u001b[0m \u001b[43m    \u001b[49m\u001b[43msolver\u001b[49m\u001b[43m,\u001b[49m\u001b[43m \u001b[49m\u001b[43mgp\u001b[49m\u001b[43m,\u001b[49m\u001b[43m \u001b[49m\u001b[43menforce_dpp\u001b[49m\u001b[43m,\u001b[49m\u001b[43m \u001b[49m\u001b[43mignore_dpp\u001b[49m\u001b[43m,\u001b[49m\u001b[43m \u001b[49m\u001b[43mverbose\u001b[49m\u001b[43m,\u001b[49m\u001b[43m \u001b[49m\u001b[43mcanon_backend\u001b[49m\u001b[43m,\u001b[49m\u001b[43m \u001b[49m\u001b[43mkwargs\u001b[49m\n\u001b[1;32m   1074\u001b[0m \u001b[43m\u001b[49m\u001b[43m)\u001b[49m\n\u001b[1;32m   1076\u001b[0m \u001b[38;5;28;01mif\u001b[39;00m verbose:\n\u001b[1;32m   1077\u001b[0m     \u001b[38;5;28mprint\u001b[39m(_NUM_SOLVER_STR)\n",
      "File \u001b[0;32m~/anaconda3/lib/python3.10/site-packages/cvxpy/problems/problem.py:646\u001b[0m, in \u001b[0;36mProblem.get_problem_data\u001b[0;34m(self, solver, gp, enforce_dpp, ignore_dpp, verbose, canon_backend, solver_opts)\u001b[0m\n\u001b[1;32m    644\u001b[0m \u001b[38;5;28;01mif\u001b[39;00m key \u001b[38;5;241m!=\u001b[39m \u001b[38;5;28mself\u001b[39m\u001b[38;5;241m.\u001b[39m_cache\u001b[38;5;241m.\u001b[39mkey:\n\u001b[1;32m    645\u001b[0m     \u001b[38;5;28mself\u001b[39m\u001b[38;5;241m.\u001b[39m_cache\u001b[38;5;241m.\u001b[39minvalidate()\n\u001b[0;32m--> 646\u001b[0m     solving_chain \u001b[38;5;241m=\u001b[39m \u001b[38;5;28;43mself\u001b[39;49m\u001b[38;5;241;43m.\u001b[39;49m\u001b[43m_construct_chain\u001b[49m\u001b[43m(\u001b[49m\n\u001b[1;32m    647\u001b[0m \u001b[43m        \u001b[49m\u001b[43msolver\u001b[49m\u001b[38;5;241;43m=\u001b[39;49m\u001b[43msolver\u001b[49m\u001b[43m,\u001b[49m\u001b[43m \u001b[49m\u001b[43mgp\u001b[49m\u001b[38;5;241;43m=\u001b[39;49m\u001b[43mgp\u001b[49m\u001b[43m,\u001b[49m\n\u001b[1;32m    648\u001b[0m \u001b[43m        \u001b[49m\u001b[43menforce_dpp\u001b[49m\u001b[38;5;241;43m=\u001b[39;49m\u001b[43menforce_dpp\u001b[49m\u001b[43m,\u001b[49m\n\u001b[1;32m    649\u001b[0m \u001b[43m        \u001b[49m\u001b[43mignore_dpp\u001b[49m\u001b[38;5;241;43m=\u001b[39;49m\u001b[43mignore_dpp\u001b[49m\u001b[43m,\u001b[49m\n\u001b[1;32m    650\u001b[0m \u001b[43m        \u001b[49m\u001b[43mcanon_backend\u001b[49m\u001b[38;5;241;43m=\u001b[39;49m\u001b[43mcanon_backend\u001b[49m\u001b[43m,\u001b[49m\n\u001b[1;32m    651\u001b[0m \u001b[43m        \u001b[49m\u001b[43msolver_opts\u001b[49m\u001b[38;5;241;43m=\u001b[39;49m\u001b[43msolver_opts\u001b[49m\u001b[43m)\u001b[49m\n\u001b[1;32m    652\u001b[0m     \u001b[38;5;28mself\u001b[39m\u001b[38;5;241m.\u001b[39m_cache\u001b[38;5;241m.\u001b[39mkey \u001b[38;5;241m=\u001b[39m key\n\u001b[1;32m    653\u001b[0m     \u001b[38;5;28mself\u001b[39m\u001b[38;5;241m.\u001b[39m_cache\u001b[38;5;241m.\u001b[39msolving_chain \u001b[38;5;241m=\u001b[39m solving_chain\n",
      "File \u001b[0;32m~/anaconda3/lib/python3.10/site-packages/cvxpy/problems/problem.py:898\u001b[0m, in \u001b[0;36mProblem._construct_chain\u001b[0;34m(self, solver, gp, enforce_dpp, ignore_dpp, canon_backend, solver_opts)\u001b[0m\n\u001b[1;32m    896\u001b[0m candidate_solvers \u001b[38;5;241m=\u001b[39m \u001b[38;5;28mself\u001b[39m\u001b[38;5;241m.\u001b[39m_find_candidate_solvers(solver\u001b[38;5;241m=\u001b[39msolver, gp\u001b[38;5;241m=\u001b[39mgp)\n\u001b[1;32m    897\u001b[0m \u001b[38;5;28mself\u001b[39m\u001b[38;5;241m.\u001b[39m_sort_candidate_solvers(candidate_solvers)\n\u001b[0;32m--> 898\u001b[0m \u001b[38;5;28;01mreturn\u001b[39;00m \u001b[43mconstruct_solving_chain\u001b[49m\u001b[43m(\u001b[49m\u001b[38;5;28;43mself\u001b[39;49m\u001b[43m,\u001b[49m\u001b[43m \u001b[49m\u001b[43mcandidate_solvers\u001b[49m\u001b[43m,\u001b[49m\u001b[43m \u001b[49m\u001b[43mgp\u001b[49m\u001b[38;5;241;43m=\u001b[39;49m\u001b[43mgp\u001b[49m\u001b[43m,\u001b[49m\n\u001b[1;32m    899\u001b[0m \u001b[43m                               \u001b[49m\u001b[43menforce_dpp\u001b[49m\u001b[38;5;241;43m=\u001b[39;49m\u001b[43menforce_dpp\u001b[49m\u001b[43m,\u001b[49m\n\u001b[1;32m    900\u001b[0m \u001b[43m                               \u001b[49m\u001b[43mignore_dpp\u001b[49m\u001b[38;5;241;43m=\u001b[39;49m\u001b[43mignore_dpp\u001b[49m\u001b[43m,\u001b[49m\n\u001b[1;32m    901\u001b[0m \u001b[43m                               \u001b[49m\u001b[43mcanon_backend\u001b[49m\u001b[38;5;241;43m=\u001b[39;49m\u001b[43mcanon_backend\u001b[49m\u001b[43m,\u001b[49m\n\u001b[1;32m    902\u001b[0m \u001b[43m                               \u001b[49m\u001b[43msolver_opts\u001b[49m\u001b[38;5;241;43m=\u001b[39;49m\u001b[43msolver_opts\u001b[49m\u001b[43m,\u001b[49m\n\u001b[1;32m    903\u001b[0m \u001b[43m                               \u001b[49m\u001b[43mspecified_solver\u001b[49m\u001b[38;5;241;43m=\u001b[39;49m\u001b[43msolver\u001b[49m\u001b[43m)\u001b[49m\n",
      "File \u001b[0;32m~/anaconda3/lib/python3.10/site-packages/cvxpy/reductions/solvers/solving_chain.py:217\u001b[0m, in \u001b[0;36mconstruct_solving_chain\u001b[0;34m(problem, candidates, gp, enforce_dpp, ignore_dpp, canon_backend, solver_opts, specified_solver)\u001b[0m\n\u001b[1;32m    215\u001b[0m \u001b[38;5;28;01mif\u001b[39;00m \u001b[38;5;28mlen\u001b[39m(problem\u001b[38;5;241m.\u001b[39mvariables()) \u001b[38;5;241m==\u001b[39m \u001b[38;5;241m0\u001b[39m:\n\u001b[1;32m    216\u001b[0m     \u001b[38;5;28;01mreturn\u001b[39;00m SolvingChain(reductions\u001b[38;5;241m=\u001b[39m[ConstantSolver()])\n\u001b[0;32m--> 217\u001b[0m reductions \u001b[38;5;241m=\u001b[39m \u001b[43m_reductions_for_problem_class\u001b[49m\u001b[43m(\u001b[49m\u001b[43mproblem\u001b[49m\u001b[43m,\u001b[49m\u001b[43m \u001b[49m\u001b[43mcandidates\u001b[49m\u001b[43m,\u001b[49m\u001b[43m \u001b[49m\u001b[43mgp\u001b[49m\u001b[43m,\u001b[49m\u001b[43m \u001b[49m\u001b[43msolver_opts\u001b[49m\u001b[43m)\u001b[49m\n\u001b[1;32m    219\u001b[0m \u001b[38;5;66;03m# Process DPP status of the problem.\u001b[39;00m\n\u001b[1;32m    220\u001b[0m dpp_context \u001b[38;5;241m=\u001b[39m \u001b[38;5;124m'\u001b[39m\u001b[38;5;124mdcp\u001b[39m\u001b[38;5;124m'\u001b[39m \u001b[38;5;28;01mif\u001b[39;00m \u001b[38;5;129;01mnot\u001b[39;00m gp \u001b[38;5;28;01melse\u001b[39;00m \u001b[38;5;124m'\u001b[39m\u001b[38;5;124mdgp\u001b[39m\u001b[38;5;124m'\u001b[39m\n",
      "File \u001b[0;32m~/anaconda3/lib/python3.10/site-packages/cvxpy/reductions/solvers/solving_chain.py:132\u001b[0m, in \u001b[0;36m_reductions_for_problem_class\u001b[0;34m(problem, candidates, gp, solver_opts)\u001b[0m\n\u001b[1;32m    129\u001b[0m     \u001b[38;5;28;01melif\u001b[39;00m problem\u001b[38;5;241m.\u001b[39mis_dqcp():\n\u001b[1;32m    130\u001b[0m         append \u001b[38;5;241m+\u001b[39m\u001b[38;5;241m=\u001b[39m (\u001b[38;5;124m\"\u001b[39m\u001b[38;5;130;01m\\n\u001b[39;00m\u001b[38;5;124mHowever, the problem does follow DQCP rules. \u001b[39m\u001b[38;5;124m\"\u001b[39m\n\u001b[1;32m    131\u001b[0m                    \u001b[38;5;124m\"\u001b[39m\u001b[38;5;124mConsider calling solve() with `qcp=True`.\u001b[39m\u001b[38;5;124m\"\u001b[39m)\n\u001b[0;32m--> 132\u001b[0m     \u001b[38;5;28;01mraise\u001b[39;00m DCPError(\n\u001b[1;32m    133\u001b[0m         \u001b[38;5;124m\"\u001b[39m\u001b[38;5;124mProblem does not follow DCP rules. Specifically:\u001b[39m\u001b[38;5;130;01m\\n\u001b[39;00m\u001b[38;5;124m\"\u001b[39m \u001b[38;5;241m+\u001b[39m append)\n\u001b[1;32m    134\u001b[0m \u001b[38;5;28;01melif\u001b[39;00m gp \u001b[38;5;129;01mand\u001b[39;00m \u001b[38;5;129;01mnot\u001b[39;00m problem\u001b[38;5;241m.\u001b[39mis_dgp():\n\u001b[1;32m    135\u001b[0m     append \u001b[38;5;241m=\u001b[39m build_non_disciplined_error_msg(problem, \u001b[38;5;124m'\u001b[39m\u001b[38;5;124mDGP\u001b[39m\u001b[38;5;124m'\u001b[39m)\n",
      "\u001b[0;31mDCPError\u001b[0m: Problem does not follow DCP rules. Specifically:\nThe following constraints are not DCP:\nvar1[1] @ 1.0 / var1[0] + -1.0 <= 0.1 , because the following subexpressions are not:\n|--  var1[1] @ 1.0 / var1[0]\nvar1[2] @ 1.0 / var1[1] + -1.0 <= 0.1 , because the following subexpressions are not:\n|--  var1[2] @ 1.0 / var1[1]\nvar1[3] @ 1.0 / var1[2] + -1.0 <= 0.1 , because the following subexpressions are not:\n|--  var1[3] @ 1.0 / var1[2]\nvar1[4] @ 1.0 / var1[3] + -1.0 <= 0.1 , because the following subexpressions are not:\n|--  var1[4] @ 1.0 / var1[3]\nvar1[5] @ 1.0 / var1[4] + -1.0 <= 0.1 , because the following subexpressions are not:\n|--  var1[5] @ 1.0 / var1[4]\nvar1[6] @ 1.0 / var1[5] + -1.0 <= 0.1 , because the following subexpressions are not:\n|--  var1[6] @ 1.0 / var1[5]\nvar1[7] @ 1.0 / var1[6] + -1.0 <= 0.1 , because the following subexpressions are not:\n|--  var1[7] @ 1.0 / var1[6]\nvar1[8] @ 1.0 / var1[7] + -1.0 <= 0.1 , because the following subexpressions are not:\n|--  var1[8] @ 1.0 / var1[7]\nvar1[9] @ 1.0 / var1[8] + -1.0 <= 0.1 , because the following subexpressions are not:\n|--  var1[9] @ 1.0 / var1[8]\nvar1[10] @ 1.0 / var1[9] + -1.0 <= 0.1 , because the following subexpressions are not:\n|--  var1[10] @ 1.0 / var1[9]\nvar1[11] @ 1.0 / var1[10] + -1.0 <= 0.1 , because the following subexpressions are not:\n|--  var1[11] @ 1.0 / var1[10]\nvar1[12] @ 1.0 / var1[11] + -1.0 <= 0.1 , because the following subexpressions are not:\n|--  var1[12] @ 1.0 / var1[11]\nvar1[13] @ 1.0 / var1[12] + -1.0 <= 0.1 , because the following subexpressions are not:\n|--  var1[13] @ 1.0 / var1[12]\nvar1[14] @ 1.0 / var1[13] + -1.0 <= 0.1 , because the following subexpressions are not:\n|--  var1[14] @ 1.0 / var1[13]\nvar1[15] @ 1.0 / var1[14] + -1.0 <= 0.1 , because the following subexpressions are not:\n|--  var1[15] @ 1.0 / var1[14]\nvar1[16] @ 1.0 / var1[15] + -1.0 <= 0.1 , because the following subexpressions are not:\n|--  var1[16] @ 1.0 / var1[15]\nvar1[17] @ 1.0 / var1[16] + -1.0 <= 0.1 , because the following subexpressions are not:\n|--  var1[17] @ 1.0 / var1[16]\nvar1[18] @ 1.0 / var1[17] + -1.0 <= 0.1 , because the following subexpressions are not:\n|--  var1[18] @ 1.0 / var1[17]\nvar1[19] @ 1.0 / var1[18] + -1.0 <= 0.1 , because the following subexpressions are not:\n|--  var1[19] @ 1.0 / var1[18]\nvar1[20] @ 1.0 / var1[19] + -1.0 <= 0.1 , because the following subexpressions are not:\n|--  var1[20] @ 1.0 / var1[19]\nvar1[21] @ 1.0 / var1[20] + -1.0 <= 0.1 , because the following subexpressions are not:\n|--  var1[21] @ 1.0 / var1[20]\nvar1[22] @ 1.0 / var1[21] + -1.0 <= 0.1 , because the following subexpressions are not:\n|--  var1[22] @ 1.0 / var1[21]\nvar1[23] @ 1.0 / var1[22] + -1.0 <= 0.1 , because the following subexpressions are not:\n|--  var1[23] @ 1.0 / var1[22]"
     ]
    }
   ],
   "source": [
    "one_car = Problem(objective, constraints)\n",
    "one_car.solve()"
   ]
  },
  {
   "cell_type": "code",
   "execution_count": null,
   "id": "e62340b3",
   "metadata": {},
   "outputs": [],
   "source": []
  }
 ],
 "metadata": {
  "kernelspec": {
   "display_name": "Python 3 (ipykernel)",
   "language": "python",
   "name": "python3"
  },
  "language_info": {
   "codemirror_mode": {
    "name": "ipython",
    "version": 3
   },
   "file_extension": ".py",
   "mimetype": "text/x-python",
   "name": "python",
   "nbconvert_exporter": "python",
   "pygments_lexer": "ipython3",
   "version": "3.10.8"
  }
 },
 "nbformat": 4,
 "nbformat_minor": 5
}
