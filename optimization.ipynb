{
 "cells": [
  {
   "cell_type": "code",
   "execution_count": 2,
   "metadata": {},
   "outputs": [
    {
     "name": "stderr",
     "output_type": "stream",
     "text": [
      "/var/folders/gr/g6k4s8t13n98c8bw4ywdpxrr0000gn/T/ipykernel_16004/2393062994.py:7: DeprecationWarning: \n",
      "Pyarrow will become a required dependency of pandas in the next major release of pandas (pandas 3.0),\n",
      "(to allow more performant data types, such as the Arrow string type, and better interoperability with other libraries)\n",
      "but was not found to be installed on your system.\n",
      "If this would cause problems for you,\n",
      "please provide us feedback at https://github.com/pandas-dev/pandas/issues/54466\n",
      "        \n",
      "  import pandas as pd\n"
     ]
    }
   ],
   "source": [
    "## CE 295 - Optimization Project\n",
    "\n",
    "import numpy as np\n",
    "import cvxpy as cp\n",
    "import matplotlib.pyplot as plt\n",
    "%matplotlib inline\n",
    "import pandas as pd"
   ]
  },
  {
   "cell_type": "code",
   "execution_count": 24,
   "metadata": {},
   "outputs": [
    {
     "name": "stdout",
     "output_type": "stream",
     "text": [
      "     00:00    00:05    00:10    00:15    00:20    00:25    00:30    00:35  \\\n",
      "0  21387.0  20595.0  20595.0  20595.0  20595.0  20595.0  20595.0  20595.0   \n",
      "1  20420.0  20420.0  20420.0  20420.0  20353.0  20353.0  20353.0  20142.0   \n",
      "2  20331.0  20528.0  20604.0  20532.0  20461.0  20406.0  20311.0  20257.0   \n",
      "3      NaN      NaN      NaN      NaN      NaN      NaN      NaN      NaN   \n",
      "\n",
      "     00:40    00:45  ...    23:15    23:20    23:25    23:30    23:35  \\\n",
      "0  20595.0  20595.0  ...  21491.0  21491.0  21491.0  21491.0  21491.0   \n",
      "1  20142.0  20142.0  ...  21480.0  21245.0  21245.0  21245.0  20995.0   \n",
      "2  20212.0  20166.0  ...  21417.0  21318.0  21180.0  21046.0  20907.0   \n",
      "3      NaN      NaN  ...      NaN      NaN      NaN      NaN      NaN   \n",
      "\n",
      "     23:40    23:45    23:50    23:55  00:00.1  \n",
      "0  21491.0  21491.0  21491.0  21491.0  21491.0  \n",
      "1  20995.0  20995.0  20728.0  20728.0  20728.0  \n",
      "2  20789.0  20694.0  20555.0  20444.0      NaN  \n",
      "3      NaN      NaN      NaN      NaN      NaN  \n",
      "\n",
      "[4 rows x 289 columns]\n",
      "0    21387.0\n",
      "1    20420.0\n",
      "2    20331.0\n",
      "3        NaN\n",
      "Name: 00:00, dtype: float64\n",
      "   00:00  00:05  00:10  00:15  00:20  00:25  00:30  00:35  00:40  00:45  ...  \\\n",
      "0  False  False  False  False  False  False  False  False  False  False  ...   \n",
      "1  False  False  False  False  False  False  False  False  False  False  ...   \n",
      "2  False  False  False  False  False  False  False  False  False  False  ...   \n",
      "3   True   True   True   True   True   True   True   True   True   True  ...   \n",
      "\n",
      "   23:15  23:20  23:25  23:30  23:35  23:40  23:45  23:50  23:55  00:00.1  \n",
      "0  False  False  False  False  False  False  False  False  False    False  \n",
      "1  False  False  False  False  False  False  False  False  False    False  \n",
      "2  False  False  False  False  False  False  False  False  False     True  \n",
      "3   True   True   True   True   True   True   True   True   True     True  \n",
      "\n",
      "[4 rows x 289 columns]\n"
     ]
    }
   ],
   "source": [
    "# Import and load data\n",
    "\n",
    "# General Load Data\n",
    "file_path = 'CAISO-demand-20240409.csv'\n",
    "df = pd.read_csv(file_path)\n",
    "df = df.drop(columns=df.columns[0])\n",
    "\n",
    "print(df)\n",
    "print(df.iloc[:, 0])\n",
    "\n",
    "print(df.isna())\n",
    "\n",
    "\n",
    "# Solar Panel Load Data\n"
   ]
  },
  {
   "cell_type": "code",
   "execution_count": 25,
   "metadata": {},
   "outputs": [],
   "source": [
    "# Define constraints\n",
    "\n",
    "# (A) Smooth ramp rate\n",
    "\n",
    "# (B) Battery charge limits\n",
    "\n",
    "# (C) Charging duration limits\n",
    "\n",
    "# (D) Max power provided by substation\n",
    "\n",
    "# (E) Max power constraint\n",
    "\n",
    "# (F) Charging rate\n",
    "\n",
    "# (G) Demand components constraints\n",
    "\n",
    "# (H) Total demand constraints"
   ]
  },
  {
   "cell_type": "code",
   "execution_count": 26,
   "metadata": {},
   "outputs": [],
   "source": [
    "# Set up optimization function"
   ]
  },
  {
   "cell_type": "code",
   "execution_count": 27,
   "metadata": {},
   "outputs": [],
   "source": [
    "# Run optimization solver"
   ]
  },
  {
   "cell_type": "code",
   "execution_count": 28,
   "metadata": {},
   "outputs": [],
   "source": [
    "# Print and interpret results"
   ]
  }
 ],
 "metadata": {
  "kernelspec": {
   "display_name": "Python 3",
   "language": "python",
   "name": "python3"
  },
  "language_info": {
   "codemirror_mode": {
    "name": "ipython",
    "version": 3
   },
   "file_extension": ".py",
   "mimetype": "text/x-python",
   "name": "python",
   "nbconvert_exporter": "python",
   "pygments_lexer": "ipython3",
   "version": "3.11.7"
  }
 },
 "nbformat": 4,
 "nbformat_minor": 2
}
